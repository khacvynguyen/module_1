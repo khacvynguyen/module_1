{
 "cells": [
  {
   "cell_type": "code",
   "execution_count": 1,
   "metadata": {},
   "outputs": [],
   "source": [
    "from data_pipeline.file_parser import process_single_file"
   ]
  },
  {
   "cell_type": "code",
   "execution_count": null,
   "metadata": {},
   "outputs": [],
   "source": [
    "# becareful with the file name, it will be overwritten\n",
    "process_single_file(\n",
    "    input_pdf_path=\"data/raw/ftel_bctc_2024.pdf\",\n",
    "    output_path=\"data/processed/ftel_bctc_2024.md\"\n",
    ")"
   ]
  },
  {
   "cell_type": "markdown",
   "metadata": {},
   "source": [
    "## Basic RAG"
   ]
  },
  {
   "cell_type": "code",
   "execution_count": null,
   "metadata": {},
   "outputs": [],
   "source": [
    "import os\n",
    "import yaml\n",
    "from langchain_google_genai import GoogleGenerativeAI, GoogleGenerativeAIEmbeddings\n",
    "from langchain_core.output_parsers import StrOutputParser\n",
    "from langchain_core.prompts import ChatPromptTemplate, PromptTemplate\n",
    "from langchain_core.runnables import RunnablePassthrough\n",
    "from dotenv import load_dotenv\n",
    "load_dotenv()\n"
   ]
  },
  {
   "cell_type": "code",
   "execution_count": 3,
   "metadata": {},
   "outputs": [],
   "source": [
    "from llm_inference.llm_inference_base import get_length\n",
    "from rag.indexing import create_documents, split_document, create_document\n",
    "from rag.vectorstrore import initialize_vectorstore"
   ]
  },
  {
   "cell_type": "code",
   "execution_count": null,
   "metadata": {},
   "outputs": [],
   "source": [
    "prompt_templates = yaml.safe_load(open(\"./prompts/rag_base.yaml\"))\n",
    "prompt_templates.keys()"
   ]
  },
  {
   "cell_type": "code",
   "execution_count": 5,
   "metadata": {},
   "outputs": [],
   "source": [
    "config = {\n",
    "    'embedding_model': 'models/text-embedding-004',\n",
    "    'llm_model': 'gemini-2.5-flash',\n",
    "    'chroma_db_path': './chroma_db',\n",
    "    'prompt_template_path': './prompts/rag_base.yaml',\n",
    "    'temperature': 0.3,\n",
    "    'top_p': 0.85,\n",
    "    'search_k': 2\n",
    "}"
   ]
  },
  {
   "cell_type": "code",
   "execution_count": null,
   "metadata": {},
   "outputs": [],
   "source": [
    "finacial_statement_docs = open(\"data/processed/ftel_bctc_2024.md\", \"r\").read()\n",
    "print(finacial_statement_docs[:1000])"
   ]
  },
  {
   "cell_type": "code",
   "execution_count": null,
   "metadata": {},
   "outputs": [],
   "source": [
    "print(get_length(finacial_statement_docs), \"tokens\")"
   ]
  },
  {
   "cell_type": "code",
   "execution_count": null,
   "metadata": {},
   "outputs": [],
   "source": [
    "## indexing\n",
    "chunks = split_document(create_document(finacial_statement_docs), return_each_line=True)\n",
    "print(len(chunks))"
   ]
  },
  {
   "cell_type": "code",
   "execution_count": 9,
   "metadata": {},
   "outputs": [],
   "source": [
    "google_embedding = GoogleGenerativeAIEmbeddings(\n",
    "    model=config[\"embedding_model\"] \n",
    ")"
   ]
  },
  {
   "cell_type": "code",
   "execution_count": null,
   "metadata": {},
   "outputs": [],
   "source": [
    "config[\"chroma_db_path\"]"
   ]
  },
  {
   "cell_type": "code",
   "execution_count": null,
   "metadata": {},
   "outputs": [],
   "source": [
    "# indexing with chroma db\n",
    "vectorstore = initialize_vectorstore(\n",
    "    documents=chunks,\n",
    "    embeddings=google_embedding,\n",
    "    db_path=config[\"chroma_db_path\"],\n",
    "    collection_name=\"financial_statement_01\"\n",
    ")"
   ]
  },
  {
   "cell_type": "code",
   "execution_count": 12,
   "metadata": {},
   "outputs": [],
   "source": [
    "llm = GoogleGenerativeAI(\n",
    "    model=config[\"llm_model\"],\n",
    "    temperature=config[\"temperature\"],\n",
    "    top_p=config[\"top_p\"]\n",
    ")"
   ]
  },
  {
   "cell_type": "code",
   "execution_count": 13,
   "metadata": {},
   "outputs": [],
   "source": [
    "def format_docs(docs):\n",
    "    try:\n",
    "        context = \"\\n\\n\".join(doc.page_content for doc in docs)\n",
    "    except Exception as e:\n",
    "        # print(f\"Error formatting documents: {e}\")\n",
    "        context = \"\\n\\n\".join(doc for doc in docs)\n",
    "    return context\n",
    "\n",
    "def log_prompt(prompt):\n",
    "    print(\"\\n--- Prompt Fed to LLM ---\")\n",
    "    try:\n",
    "        print(prompt.messages[0].content)\n",
    "    except:\n",
    "        print(prompt)\n",
    "    print(\"\\n--- End Prompt ---\")\n",
    "    # print(prompt)\n",
    "    return prompt"
   ]
  },
  {
   "cell_type": "code",
   "execution_count": 14,
   "metadata": {},
   "outputs": [],
   "source": [
    "retriever = vectorstore.as_retriever(\n",
    "    search_kwargs={\"k\": config[\"search_k\"]}\n",
    ")"
   ]
  },
  {
   "cell_type": "code",
   "execution_count": null,
   "metadata": {},
   "outputs": [],
   "source": [
    "# test retriever\n",
    "retriever.invoke(\"What is the total assets of the company?\")"
   ]
  },
  {
   "cell_type": "code",
   "execution_count": null,
   "metadata": {},
   "outputs": [],
   "source": [
    "prompt_resp = ChatPromptTemplate.from_template(prompt_templates[\"basic_rag_01\"])\n",
    "prompt_resp.pretty_print()"
   ]
  },
  {
   "cell_type": "code",
   "execution_count": 21,
   "metadata": {},
   "outputs": [],
   "source": [
    "basic_rag_chain = (\n",
    "    {\n",
    "        \"context\": RunnablePassthrough() | retriever | format_docs,\n",
    "        \"question\": RunnablePassthrough(),\n",
    "    }\n",
    "    | prompt_resp\n",
    "    | llm\n",
    "    | StrOutputParser()\n",
    ")"
   ]
  },
  {
   "cell_type": "code",
   "execution_count": null,
   "metadata": {},
   "outputs": [],
   "source": [
    "# query\n",
    "basic_rag_chain.invoke(\"What is the total assets of the company?\")"
   ]
  },
  {
   "cell_type": "code",
   "execution_count": null,
   "metadata": {},
   "outputs": [],
   "source": [
    "basic_rag_chain.invoke(\"Tính tỉ suất lợi nhuận trên vốn chủ sở hữu\")"
   ]
  },
  {
   "cell_type": "code",
   "execution_count": null,
   "metadata": {},
   "outputs": [],
   "source": [
    "print('Để tính tỉ suất lợi nhuận trên vốn chủ sở hữu (Return on Equity - ROE) cho năm 2024, chúng ta cần các thông tin sau từ ngữ cảnh:\\n\\n1.  **Lợi nhuận sau thuế của năm nay (Net Income for the year):** Từ Bảng Cân đối Kế toán Hợp nhất, mục 421b \"Lợi nhuận sau thuế chưa phân phối của năm nay\" cho năm 2024 là **2.108.378.750.719 VND**.\\n2.  **Vốn chủ sở hữu (Shareholder\\'s Equity):** Từ Bảng Cân đối Kế toán Hợp nhất, mục 400 \"VỐN CHỦ SỞ HỮU\" tại ngày 31.12.2024 là **10.646.264.236.508 VND**.\\n\\nCông thức tính ROE:\\nROE = (Lợi nhuận sau thuế của năm nay / Vốn chủ sở hữu) * 100%\\n\\nThực hiện phép tính:\\nROE = (2.108.378.750.719 VND / 10.646.264.236.508 VND) * 100%\\nROE ≈ 0.19803 * 100%\\nROE ≈ **19.80%**\\n\\nVậy, tỉ suất lợi nhuận trên vốn chủ sở hữu của công ty CỔ PHẦN VIỄN THÔNG FPT tại năm 2024 là khoảng **19.80%**.')"
   ]
  },
  {
   "cell_type": "code",
   "execution_count": 24,
   "metadata": {},
   "outputs": [
    {
     "name": "stdout",
     "output_type": "stream",
     "text": [
      "Để tính tỉ suất lợi nhuận trên vốn chủ sở hữu (Return on Equity - ROE), ta sử dụng công thức:\n",
      "\n",
      "**ROE = Lợi nhuận sau thuế của năm nay / Vốn chủ sở hữu**\n",
      "\n",
      "Dựa vào ngữ cảnh:\n",
      "\n",
      "**Năm 2024:**\n",
      "*   Lợi nhuận sau thuế của năm nay (Mã số 421b): 2.108.378.750.719 VND\n",
      "*   Vốn chủ sở hữu (Mã số 410): 10.646.264.236.508 VND\n",
      "\n",
      "ROE 2024 = 2.108.378.750.719 / 10.646.264.236.508 ≈ 0.19803 hay **19.80%**\n",
      "\n",
      "**Năm 2023:**\n",
      "*   Lợi nhuận sau thuế của năm nay (Mã số 421b): 1.784.320.504.084 VND\n",
      "*   Vốn chủ sở hữu (Mã số 410): 9.073.764.532.249 VND\n",
      "\n",
      "ROE 2023 = 1.784.320.504.084 / 9.073.764.532.249 ≈ 0.19664 hay **19.66%**\n"
     ]
    }
   ],
   "source": [
    "print(basic_rag_chain.invoke(\"Tính tỉ suất lợi nhuận trên vốn chủ sở hữu\"))"
   ]
  },
  {
   "cell_type": "code",
   "execution_count": 23,
   "metadata": {},
   "outputs": [
    {
     "name": "stdout",
     "output_type": "stream",
     "text": [
      "Dựa trên ngữ cảnh được cung cấp, khả năng thanh toán của công ty CỔ PHẦN VIỄN THÔNG FPT cho thấy sự cải thiện đáng kể trong năm 2024 so với năm 2023:\n",
      "\n",
      "1.  **Tiền và các khoản tương đương tiền:**\n",
      "    *   Cuối năm 2024: 679.277.313.660 VND\n",
      "    *   Cuối năm 2023: 423.984.252.859 VND\n",
      "    *   **Nhận xét:** Lượng tiền mặt và các khoản tương đương tiền cuối kỳ đã tăng mạnh, cho thấy công ty có một lượng tiền mặt dồi dào hơn để đáp ứng các nghĩa vụ ngắn hạn.\n",
      "\n",
      "2.  **Lưu chuyển tiền thuần từ hoạt động kinh doanh:**\n",
      "    *   Năm 2024: 3.825.956.276.177 VND (dòng tiền dương)\n",
      "    *   Năm 2023: 3.049.557.012.386 VND (dòng tiền dương)\n",
      "    *   **Nhận xét:** Công ty tiếp tục tạo ra dòng tiền dương mạnh mẽ từ các hoạt động kinh doanh cốt lõi, và con số này đã tăng lên trong năm 2024. Đây là nguồn chính để công ty thanh toán các khoản nợ ngắn hạn và tài trợ cho hoạt động.\n",
      "\n",
      "3.  **Lưu chuyển tiền thuần trong năm:**\n",
      "    *   Năm 2024: 243.467.964.400 VND (dòng tiền dương)\n",
      "    *   Năm 2023: (999.370.932.730) VND (dòng tiền âm)\n",
      "    *   **Nhận xét:** Đây là một điểm cải thiện rất tích cực. Trong khi năm 2023 công ty có dòng tiền thuần âm (tiền giảm đi), thì năm 2024 công ty đã có dòng tiền thuần dương, cho thấy tổng lượng tiền của công ty đã tăng lên sau tất cả các hoạt động (kinh doanh, đầu tư, tài chính).\n",
      "\n",
      "4.  **Tổng tài sản ngắn hạn:**\n",
      "    *   Cuối năm 2024: 15.257.330.627.437 VND\n",
      "    *   Cuối năm 2023: 11.507.783.986.863 VND\n",
      "    *   **Nhận xét:** Tổng tài sản ngắn hạn tăng đáng kể, bao gồm sự gia tăng của tiền và các khoản tương đương tiền, cũng như đầu tư tài chính ngắn hạn. Điều này củng cố khả năng thanh toán các khoản nợ ngắn hạn của công ty.\n",
      "\n",
      "**Kết luận:**\n",
      "Dựa trên các chỉ số về tiền và các khoản tương đương tiền, dòng tiền từ hoạt động kinh doanh và dòng tiền thuần trong năm, cũng như sự gia tăng của tổng tài sản ngắn hạn, có thể thấy **khả năng thanh toán của CÔNG TY CỔ PHẦN VIỄN THÔNG FPT đã được cải thiện rõ rệt và ở mức tốt trong năm 2024**, cho thấy công ty có đủ khả năng để đáp ứng các nghĩa vụ tài chính ngắn hạn của mình.\n"
     ]
    }
   ],
   "source": [
    "print(basic_rag_chain.invoke(\"phân tích khả năng thanh toán của công ty\"))"
   ]
  },
  {
   "cell_type": "code",
   "execution_count": null,
   "metadata": {},
   "outputs": [],
   "source": []
  }
 ],
 "metadata": {
  "kernelspec": {
   "display_name": "LLM py310",
   "language": "python",
   "name": "llm_py310"
  }
 },
 "nbformat": 4,
 "nbformat_minor": 2
}
