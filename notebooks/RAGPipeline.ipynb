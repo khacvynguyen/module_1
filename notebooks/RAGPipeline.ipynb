{
 "cells": [
  {
   "cell_type": "markdown",
   "metadata": {
    "id": "L7jNjJARCMfk"
   },
   "source": [
    "## Install requirements"
   ]
  },
  {
   "cell_type": "code",
   "execution_count": 1,
   "metadata": {},
   "outputs": [
    {
     "name": "stdout",
     "output_type": "stream",
     "text": [
      "/mnt/d/workspace/mlops_final_project_01\n"
     ]
    },
    {
     "name": "stderr",
     "output_type": "stream",
     "text": [
      "/home/unbuntu2404/miniconda3/envs/llm_py310/lib/python3.10/site-packages/IPython/core/magics/osm.py:417: UserWarning: This is now an optional IPython functionality, setting dhist requires you to install the `pickleshare` library.\n",
      "  self.shell.db['dhist'] = compress_dhist(dhist)[-100:]\n"
     ]
    }
   ],
   "source": [
    "%cd .."
   ]
  },
  {
   "cell_type": "code",
   "execution_count": 6,
   "metadata": {},
   "outputs": [
    {
     "data": {
      "text/plain": [
       "True"
      ]
     },
     "execution_count": 6,
     "metadata": {},
     "output_type": "execute_result"
    }
   ],
   "source": [
    "from dotenv import load_dotenv\n",
    "\n",
    "load_dotenv(override=True)"
   ]
  },
  {
   "cell_type": "markdown",
   "metadata": {
    "id": "KQLmTtFSDHkV"
   },
   "source": [
    "## Utils"
   ]
  },
  {
   "cell_type": "code",
   "execution_count": 3,
   "metadata": {
    "executionInfo": {
     "elapsed": 361,
     "status": "ok",
     "timestamp": 1733708004674,
     "user": {
      "displayName": "Hoan Nguyen",
      "userId": "12086636295862727664"
     },
     "user_tz": -420
    },
    "id": "rfd0ojQ2DINM"
   },
   "outputs": [],
   "source": [
    "from llm_inference.llm_inference_base import ai_completion, ai_completion_with_backoff, truncate_text, get_length\n",
    "from llm_inference.llm_response_parser import parse_llm_response\n",
    "from explore.rag.prompt_utils import (\n",
    "    msg_to_conv, read_json_file, read_yaml_file, \n",
    "    load_jsonl, to_print, extract_placeholders\n",
    ")\n",
    "from IPython.display import display, Markdown\n",
    "from pandarallel import pandarallel\n",
    "import pandas as pd\n",
    "import json_repair\n",
    "import json\n",
    "import random\n",
    "import glob\n",
    "import yaml\n",
    "import time"
   ]
  },
  {
   "cell_type": "code",
   "execution_count": 4,
   "metadata": {
    "executionInfo": {
     "elapsed": 15,
     "status": "ok",
     "timestamp": 1733709912388,
     "user": {
      "displayName": "Hoan Nguyen",
      "userId": "12086636295862727664"
     },
     "user_tz": -420
    },
    "id": "XNxrVLL-DLnA"
   },
   "outputs": [],
   "source": [
    "import re\n",
    "def clean_text(text):\n",
    "    # remove special character\n",
    "    return re.sub(r\"[^a-zA-Z0-9 ]\", \"\", text).strip()"
   ]
  },
  {
   "cell_type": "markdown",
   "metadata": {
    "id": "FMzFS-F6CTVQ"
   },
   "source": [
    "## Approach 1\n",
    "\n",
    "- Query rewriter\n",
    "- Retrieved document clustering"
   ]
  },
  {
   "cell_type": "code",
   "execution_count": 5,
   "metadata": {},
   "outputs": [],
   "source": [
    "config = {\n",
    "    'embedding_model': 'models/gemini-embedding-exp',\n",
    "    'llm_model': 'gemini-2.5-flash',\n",
    "    'chroma_db_path': './chroma_db',\n",
    "    'prompt_template_path': './prompts/rag_base.yaml',\n",
    "    'temperature': 0.3,\n",
    "    'top_p': 0.85,\n",
    "    'search_k': 4\n",
    "}"
   ]
  },
  {
   "cell_type": "markdown",
   "metadata": {
    "id": "qP5cP30THtZA"
   },
   "source": [
    "### Load vectorstore"
   ]
  },
  {
   "cell_type": "code",
   "execution_count": 7,
   "metadata": {
    "executionInfo": {
     "elapsed": 324,
     "status": "ok",
     "timestamp": 1733709519761,
     "user": {
      "displayName": "Hoan Nguyen",
      "userId": "12086636295862727664"
     },
     "user_tz": -420
    },
    "id": "eHVmQU-PDqQ_"
   },
   "outputs": [],
   "source": [
    "import chromadb\n",
    "from langchain_chroma import Chroma\n",
    "from langchain_google_genai import GoogleGenerativeAIEmbeddings"
   ]
  },
  {
   "cell_type": "code",
   "execution_count": 8,
   "metadata": {
    "executionInfo": {
     "elapsed": 332,
     "status": "ok",
     "timestamp": 1733709521339,
     "user": {
      "displayName": "Hoan Nguyen",
      "userId": "12086636295862727664"
     },
     "user_tz": -420
    },
    "id": "iQcTrfIyITx7"
   },
   "outputs": [],
   "source": [
    "def load_vectorstore(db_path, coll_name, embeddings):\n",
    "    return Chroma(persist_directory=db_path, collection_name=coll_name, embedding_function=embeddings)"
   ]
  },
  {
   "cell_type": "code",
   "execution_count": 9,
   "metadata": {
    "executionInfo": {
     "elapsed": 348,
     "status": "ok",
     "timestamp": 1733709522690,
     "user": {
      "displayName": "Hoan Nguyen",
      "userId": "12086636295862727664"
     },
     "user_tz": -420
    },
    "id": "Dcj-XdEbHnHD"
   },
   "outputs": [],
   "source": [
    "persistent_client = chromadb.PersistentClient(\n",
    "    path=\"./chroma_db\"\n",
    ")"
   ]
  },
  {
   "cell_type": "code",
   "execution_count": 11,
   "metadata": {},
   "outputs": [
    {
     "data": {
      "text/plain": [
       "dict_keys(['basic_rag_01', 'rewrite_01', 'synth_qa_01', 'synth_qa_json_01', 'synth_question_01', 'synth_answer_01', 'question_rewriter_01'])"
      ]
     },
     "execution_count": 11,
     "metadata": {},
     "output_type": "execute_result"
    }
   ],
   "source": [
    "prompt_templates = yaml.safe_load(open(\"./prompts/rag_base.yaml\"))\n",
    "prompt_templates.keys()"
   ]
  },
  {
   "cell_type": "code",
   "execution_count": 10,
   "metadata": {
    "colab": {
     "base_uri": "https://localhost:8080/"
    },
    "executionInfo": {
     "elapsed": 13,
     "status": "ok",
     "timestamp": 1733709523558,
     "user": {
      "displayName": "Hoan Nguyen",
      "userId": "12086636295862727664"
     },
     "user_tz": -420
    },
    "id": "T9RQnLLoHm4b",
    "outputId": "a1c3e2f0-9453-4044-fce5-9c0f782f9b3e"
   },
   "outputs": [],
   "source": [
    "# Retrieve and list all collection names\n",
    "collections = persistent_client.list_collections()\n",
    "\n",
    "# Print collection names\n",
    "for collection in collections:\n",
    "    print(collection.name)"
   ]
  },
  {
   "cell_type": "code",
   "execution_count": 12,
   "metadata": {
    "executionInfo": {
     "elapsed": 343,
     "status": "ok",
     "timestamp": 1733709547954,
     "user": {
      "displayName": "Hoan Nguyen",
      "userId": "12086636295862727664"
     },
     "user_tz": -420
    },
    "id": "DdUaL_ukIIHv"
   },
   "outputs": [],
   "source": [
    "coll_01 = persistent_client.get_or_create_collection(\"llm_rag_01\")\n",
    "embed_01 = GoogleGenerativeAIEmbeddings(model=config[\"embedding_model\"])\n",
    "vector_store_01 = load_vectorstore(\n",
    "    db_path=config[\"chroma_db_path\"],\n",
    "    coll_name=coll_01.name,\n",
    "    embeddings=embed_01\n",
    ")"
   ]
  },
  {
   "cell_type": "code",
   "execution_count": 21,
   "metadata": {},
   "outputs": [
    {
     "ename": "AttributeError",
     "evalue": "'Chroma' object has no attribute 'list_documents'",
     "output_type": "error",
     "traceback": [
      "\u001b[0;31m---------------------------------------------------------------------------\u001b[0m",
      "\u001b[0;31mAttributeError\u001b[0m                            Traceback (most recent call last)",
      "Cell \u001b[0;32mIn[21], line 1\u001b[0m\n\u001b[0;32m----> 1\u001b[0m \u001b[43mvector_store_01\u001b[49m\u001b[38;5;241;43m.\u001b[39;49m\u001b[43mlist_documents\u001b[49m()\n",
      "\u001b[0;31mAttributeError\u001b[0m: 'Chroma' object has no attribute 'list_documents'"
     ]
    }
   ],
   "source": []
  },
  {
   "cell_type": "markdown",
   "metadata": {
    "id": "5frnkEonJXmT"
   },
   "source": [
    "### Define RAG chain"
   ]
  },
  {
   "cell_type": "code",
   "execution_count": 13,
   "metadata": {
    "executionInfo": {
     "elapsed": 358,
     "status": "ok",
     "timestamp": 1733709672576,
     "user": {
      "displayName": "Hoan Nguyen",
      "userId": "12086636295862727664"
     },
     "user_tz": -420
    },
    "id": "C2ROvr2_Jf9R"
   },
   "outputs": [],
   "source": [
    "from langchain_google_genai import GoogleGenerativeAI, ChatGoogleGenerativeAI\n",
    "from langchain_core.output_parsers import StrOutputParser\n",
    "from langchain_core.prompts import ChatPromptTemplate, PromptTemplate\n",
    "from langchain_core.runnables import RunnablePassthrough"
   ]
  },
  {
   "cell_type": "code",
   "execution_count": 14,
   "metadata": {
    "executionInfo": {
     "elapsed": 326,
     "status": "ok",
     "timestamp": 1733709643271,
     "user": {
      "displayName": "Hoan Nguyen",
      "userId": "12086636295862727664"
     },
     "user_tz": -420
    },
    "id": "Zz9m5lO6Ikgq"
   },
   "outputs": [],
   "source": [
    "def format_docs(docs):\n",
    "    try:\n",
    "        context = \"\\n\\n\".join(doc.page_content for doc in docs)\n",
    "    except Exception as e:\n",
    "        # print(f\"Error formatting documents: {e}\")\n",
    "        context = \"\\n\\n\".join(doc for doc in docs)\n",
    "    return context\n",
    "\n",
    "def log_prompt(prompt):\n",
    "    print(\"\\n--- Prompt Fed to LLM ---\")\n",
    "    try:\n",
    "        print(prompt.messages[0].content)\n",
    "    except:\n",
    "        print(prompt)\n",
    "    print(\"\\n--- End Prompt ---\")\n",
    "    # print(prompt)\n",
    "    return prompt"
   ]
  },
  {
   "cell_type": "code",
   "execution_count": 15,
   "metadata": {
    "executionInfo": {
     "elapsed": 321,
     "status": "ok",
     "timestamp": 1733709691767,
     "user": {
      "displayName": "Hoan Nguyen",
      "userId": "12086636295862727664"
     },
     "user_tz": -420
    },
    "id": "wSbA3zVcJbri"
   },
   "outputs": [],
   "source": [
    "llm = GoogleGenerativeAI(\n",
    "    model=config[\"llm_model\"],\n",
    "    temperature=config[\"temperature\"],\n",
    "    top_p=config[\"top_p\"]\n",
    ")\n",
    "\n",
    "chat_llm = ChatGoogleGenerativeAI(\n",
    "    model=config[\"llm_model\"],\n",
    "    temperature=config[\"temperature\"],\n",
    "    top_p=config[\"top_p\"]\n",
    ")"
   ]
  },
  {
   "cell_type": "markdown",
   "metadata": {
    "id": "E5cnNahSMxfo"
   },
   "source": [
    "#### Query rewriter"
   ]
  },
  {
   "cell_type": "code",
   "execution_count": 16,
   "metadata": {
    "colab": {
     "base_uri": "https://localhost:8080/"
    },
    "executionInfo": {
     "elapsed": 357,
     "status": "ok",
     "timestamp": 1733709751891,
     "user": {
      "displayName": "Hoan Nguyen",
      "userId": "12086636295862727664"
     },
     "user_tz": -420
    },
    "id": "JTLOuMPFJngl",
    "outputId": "cf307f9e-c866-40db-cdbc-271887905579"
   },
   "outputs": [
    {
     "name": "stdout",
     "output_type": "stream",
     "text": [
      "================================\u001b[1m Human Message \u001b[0m=================================\n",
      "\n",
      "Provide a better search query for web search engine to answer the given question, end the queries with `**`.\n",
      "Question: \u001b[33;1m\u001b[1;3m{x}\u001b[0m \n",
      "Answer:\n",
      "\n"
     ]
    }
   ],
   "source": [
    "rewrite_prompt = ChatPromptTemplate.from_template(prompt_templates[\"rewrite_01\"])\n",
    "rewrite_prompt.pretty_print()"
   ]
  },
  {
   "cell_type": "code",
   "execution_count": 18,
   "metadata": {
    "executionInfo": {
     "elapsed": 336,
     "status": "ok",
     "timestamp": 1733710153074,
     "user": {
      "displayName": "Hoan Nguyen",
      "userId": "12086636295862727664"
     },
     "user_tz": -420
    },
    "id": "4nSClYROJ2Cn"
   },
   "outputs": [],
   "source": [
    "query_rewriter = rewrite_prompt | log_prompt | llm | StrOutputParser() | clean_text"
   ]
  },
  {
   "cell_type": "code",
   "execution_count": 19,
   "metadata": {
    "colab": {
     "base_uri": "https://localhost:8080/",
     "height": 194
    },
    "executionInfo": {
     "elapsed": 653,
     "status": "ok",
     "timestamp": 1733710154975,
     "user": {
      "displayName": "Hoan Nguyen",
      "userId": "12086636295862727664"
     },
     "user_tz": -420
    },
    "id": "aHqdZEeFLMFJ",
    "outputId": "b5d8d28d-6d59-440d-8c8b-63086160822f"
   },
   "outputs": [
    {
     "name": "stdout",
     "output_type": "stream",
     "text": [
      "\n",
      "--- Prompt Fed to LLM ---\n",
      "Provide a better search query for web search engine to answer the given question, end the queries with `**`.\n",
      "Question: What is the core value of vietjet air? \n",
      "Answer:\n",
      "\n",
      "\n",
      "--- End Prompt ---\n"
     ]
    },
    {
     "data": {
      "text/plain": [
       "'Vietjet Air core values'"
      ]
     },
     "execution_count": 19,
     "metadata": {},
     "output_type": "execute_result"
    }
   ],
   "source": [
    "query_rewriter.invoke(\"What is the core value of vietjet air?\")"
   ]
  },
  {
   "cell_type": "markdown",
   "metadata": {
    "id": "nuVFWWxKM3vE"
   },
   "source": [
    "#### Query rewrite RAG chain"
   ]
  },
  {
   "cell_type": "code",
   "execution_count": 22,
   "metadata": {
    "colab": {
     "base_uri": "https://localhost:8080/"
    },
    "executionInfo": {
     "elapsed": 339,
     "status": "ok",
     "timestamp": 1733710223199,
     "user": {
      "displayName": "Hoan Nguyen",
      "userId": "12086636295862727664"
     },
     "user_tz": -420
    },
    "id": "xgsAcQe5LgGh",
    "outputId": "ec729c79-6955-4e33-b54f-44718d747f1f"
   },
   "outputs": [
    {
     "name": "stdout",
     "output_type": "stream",
     "text": [
      "================================\u001b[1m Human Message \u001b[0m=================================\n",
      "\n",
      "Answer the users question based only on the following context:\n",
      "\n",
      "<context>\n",
      "\u001b[33;1m\u001b[1;3m{context}\u001b[0m\n",
      "</context>\n",
      "\n",
      "Question: \u001b[33;1m\u001b[1;3m{question}\u001b[0m\n",
      "\n"
     ]
    }
   ],
   "source": [
    "prompt_resp = ChatPromptTemplate.from_template(prompt_templates[\"basic_rag_01\"])\n",
    "prompt_resp.pretty_print()"
   ]
  },
  {
   "cell_type": "code",
   "execution_count": 23,
   "metadata": {
    "executionInfo": {
     "elapsed": 348,
     "status": "ok",
     "timestamp": 1733710305828,
     "user": {
      "displayName": "Hoan Nguyen",
      "userId": "12086636295862727664"
     },
     "user_tz": -420
    },
    "id": "WIj4mt04Lvle"
   },
   "outputs": [],
   "source": [
    "retriever_01 = vector_store_01.as_retriever(\n",
    "    search_type=\"mmr\", search_kwargs={\"k\": 4}\n",
    ")"
   ]
  },
  {
   "cell_type": "code",
   "execution_count": null,
   "metadata": {
    "executionInfo": {
     "elapsed": 325,
     "status": "ok",
     "timestamp": 1733710361332,
     "user": {
      "displayName": "Hoan Nguyen",
      "userId": "12086636295862727664"
     },
     "user_tz": -420
    },
    "id": "54BuKlYAL47w"
   },
   "outputs": [],
   "source": [
    "relevant_docs = retriever_01.invoke(\"What is vietjet air?\")"
   ]
  },
  {
   "cell_type": "code",
   "execution_count": 35,
   "metadata": {
    "colab": {
     "base_uri": "https://localhost:8080/"
    },
    "executionInfo": {
     "elapsed": 356,
     "status": "ok",
     "timestamp": 1733710376905,
     "user": {
      "displayName": "Hoan Nguyen",
      "userId": "12086636295862727664"
     },
     "user_tz": -420
    },
    "id": "wShbhnzZL44e",
    "outputId": "c1a8a9d5-91a7-45a0-d164-d472a4eb2e40"
   },
   "outputs": [
    {
     "data": {
      "text/plain": [
       "{'chunk': 1,\n",
       " 'doc_id': '6f1abd16-fb4d-4427-bf05-d44661811232',\n",
       " 'title': 'VietJet Air (VJ) - Flights, Airline Tickets & Reviews',\n",
       " 'url': 'https://www.kayak.com/VietJet-Air.VJ.airline.html'}"
      ]
     },
     "execution_count": 35,
     "metadata": {},
     "output_type": "execute_result"
    }
   ],
   "source": [
    "relevant_docs[0].metadata"
   ]
  },
  {
   "cell_type": "code",
   "execution_count": 40,
   "metadata": {
    "executionInfo": {
     "elapsed": 455,
     "status": "ok",
     "timestamp": 1733710466485,
     "user": {
      "displayName": "Hoan Nguyen",
      "userId": "12086636295862727664"
     },
     "user_tz": -420
    },
    "id": "z4471mf-KS9z"
   },
   "outputs": [],
   "source": [
    "query_rewrite_chain = (\n",
    "    {\n",
    "        \"context\": {\"x\": RunnablePassthrough()} | query_rewriter | retriever_01 | format_docs,\n",
    "        \"question\": RunnablePassthrough(),\n",
    "    }\n",
    "    | prompt_resp\n",
    "    | log_prompt\n",
    "    | llm\n",
    "    | StrOutputParser()\n",
    ")"
   ]
  },
  {
   "cell_type": "code",
   "execution_count": 41,
   "metadata": {
    "colab": {
     "base_uri": "https://localhost:8080/",
     "height": 819
    },
    "executionInfo": {
     "elapsed": 1977,
     "status": "ok",
     "timestamp": 1733710468796,
     "user": {
      "displayName": "Hoan Nguyen",
      "userId": "12086636295862727664"
     },
     "user_tz": -420
    },
    "id": "QqoQudORMWYm",
    "outputId": "2a63a7cc-f2b0-48ee-bd93-62b24b0cbfc8"
   },
   "outputs": [
    {
     "name": "stdout",
     "output_type": "stream",
     "text": [
      "\n",
      "--- Prompt Fed to LLM ---\n",
      "Provide a better search query for web search engine to answer the given question, end the queries with `**`.\n",
      "Question: What is vietjet air? \n",
      "Answer:\n",
      "\n",
      "\n",
      "--- End Prompt ---\n",
      "\n",
      "--- Prompt Fed to LLM ---\n",
      "Answer the users question based only on the following context:\n",
      "\n",
      "<context>\n",
      "and cheerful low-cost airline based in Vietnam. It has a large flight network spanning central and Southeast Asia, China, Japan, India and Australia. It’s an excellent option for visiting secondary cities within Vietnam (and China, where it serves a great variety of destinations), as well as for longer connecting trips like Australia to South Korea or Japan to India. VietJet also operates a Thailand-based subsidiary, Thai VietJet, with more than a dozen destinations there. The VietJet Air model VietJet’s flights can be almost unbelievably cheap, whether you’re flying domestically, to neighboring countries or further afield to the likes of Australia, India and Japan. Don’t be put off by the sometimes clunky English on VietJet’s website – it’s a major airline in the region with modern Airbus planes and I have no hesitation flying this airline. The way the airline experience works at the airport and onboard is very similar to other low-cost carriers in the region. If you want a basic\n",
      "\n",
      "eye out to see if you travel on a specially marked A321-211 plane, which is decorated to celebrate 45 years of diplomatic ties between France and Vietnam. If you would like to upgrade from the standard Economy Class, a separate ticket class termed SkyBoss is available. You will have access to an exclusive lounge prior to your flight, which is equipped with complimentary food and magazines. Seat selection and check-in priority is also afforded. VietJet Air information IATA Code VJ Routes 208 Top route Ho Chi Minh City to Hanoi Airports served 51 Top airport Ho Chi Minh City Other popular airlines in the United States Flights Airlines VietJet Air Flight status, cancellation and delay data provided by Flightstats.com. Flightstats data may not always be accurate or error free. Always confirm the information provided here directly with your airline. Flights Flights to New York Flights to Los Angeles Flights to Las Vegas Flights to Orlando Flights to Chicago Flights to Miami Flights to\n",
      "\n",
      "Minh provides an easier link to countries south such as Indonesia, Malaysia and Singapore. Offering competitive prices to passengers and minimal services, the airline has developed a strong customer base within the low-cost market. It has introduced Thai Vietjet Air as a subsidiary, which focuses on domestic flights within Thailand. In 2015 it was crowned the Best Asian Low-Cost Carrier at the TTG Travel Awards. A codeshare agreement is in place with Japan Airlines, which provides more flexibility to customers for both domestic and international trips. The fleet of Vietjet Air is made up entirely of Airbus airplanes. Flying both the A320 and A321 models, the aircraft are capable of transporting between 180 and 230 passengers. The carrier became the first to fly the A320neo model in Southeast Asia. The livery of the airliners features Vietnam’s national colors of red and yellow. Keep an eye out to see if you travel on a specially marked A321-211 plane, which is decorated to celebrate\n",
      "\n",
      "VietJet Air? The IATA Code for VietJet airline is VJ. The airline is based in Hanoi, Vietnam, and holds full membership in the International Air Transport Association (IATA). How many flights does VietJet Air operate in India? Vietjet operates 29 weekly round-trip flights connecting Vietnam with New Delhi, Mumbai, Ahmedabad, and Kochi. VietJet Finalize New Order with Airbus for 20 A330neo worth $7.4 Billion Vietjet Vietjet air vietjet air airline VietJet Air India VietJet Air New Flight VietJet Air News VietJet airlines vietjet airways vietjet aviation VietJet flights VietJet International VietJet jet Follow on Google News Follow on Flipboard Share. Facebook Twitter WhatsApp LinkedIn Telegram Reddit Email Copy Link Previous Article Air India Cancels Mumbai to San Francisco Flights, Passengers Miss Connections Next Article KLM Takes the Delivery of First Airbus A321neo Today Shweta Shukla LinkedIn Hello, my name is Shweta Shukla, and I am writing for Aviation A2Z for last 2 years. I\n",
      "\n",
      "fleets View Airborne Flights VietJet Air Flight Status Flight # Track Flight Forgot the flight  number? VietJet Air Contact Details Based in: Hanoi, Vietnam, Vietnam Website: http://www.vietjetair.com/ ( Next 20 )  Basic users (becoming a basic user is free and easy!) view 40 history. ( Register ) Airborne VietJet Air \"VietJet\" (VJC) Aircraft Ident Type Origin Destination Departure Estimated Arrival Time VJC1127 A321 Noi Bai Int'l ( HAN / VVNB ) Tan Son Nhat Int'l ( SGN / VVTS ) Mon 08:25PM +07 Mon 10:15PM +07 VJC1154 A321 Tan Son Nhat Int'l ( SGN / VVTS ) Noi Bai Int'l ( HAN / VVNB ) Mon 07:44PM +07 Mon 09:21PM +07 VJC1284 A321 Tan Son Nhat Int'l ( SGN / VVTS ) Cat Bi ( HPH / VVCI ) Mon 08:31PM +07 Mon 10:11PM +07 VJC1308 A321 Tan Son Nhat Int'l ( SGN / VVTS ) Phu Bai ( HUI / VVPB ) Mon 07:46PM +07 Mon 08:51PM +07 VJC1310 A321 Tan Son Nhat Int'l ( SGN / VVTS ) Phu Bai ( HUI / VVPB ) Mon 08:28PM +07 Mon 09:33PM +07 VJC141 A321 Noi Bai Int'l ( HAN / VVNB ) Tan Son Nhat Int'l ( SGN /\n",
      "\n",
      "Vietjet, Vietnam’s largest private carrier, holds full membership in the International Air Transport Association (IATA) and possesses the IATA Operational Safety Audit (IOSA) certificate. These credentials underscore the airline’s commitment to safety and international standards. The airline frames this initiative as part of its corporate social responsibility efforts. Vietjet aims to promote Vietnamese culture, contribute to community welfare, and foster talent development in India through this program. Visit love connection subdomain of VietJet Airlines to Participate in this contact: Love Connection – VietjetAir What are your thoughts on this unique initiative by VietJet for Travelers of India? Will you participate? Let us know in the comments. Join us on Telegram Group for the Latest Aviation Updates. Subsequently, follow us on Google News . VietJet Air FAQs What is the IATA code of VietJet Air? The IATA Code for VietJet airline is VJ. The airline is based in Hanoi, Vietnam, and\n",
      "\n",
      "Joint Stock Company ( Vietnamese : Công ty Cổ phần hàng không Vietjet ), operating as VietJet Air or Vietjet , is a Vietnamese low-cost airline [ 3 ] based in Hanoi . It was the first privately owned airline to be established in Vietnam, being granted its initial approval to operate by the Vietnamese Ministry of Finance in November 2007. [ 4 ] As of its launch in December 2011, it became the second private airline to offer domestic service in Vietnam, as well as the fifth airline overall to offer civil domestic flights. VietJet Air is owned by Sovico Holdings, HDBank, other organisational investors, and individual stakeholders. The carrier's launch was beset by long delays attributed to various causes, such as the Great Recession and regulatory issues. Despite the setbacks, VietJet Air's first flight was operated on 25 December 2011, flying from Ho Chi Minh City to Hanoi. [ 5 ] [ 6 ] The carrier carried its 10 millionth passenger in December 2014, [ 7 ] and the 25 millionth passenger\n",
      "\n",
      "go Call Center Phone +84 1900 1886 (+84) 28 3526 68 68 Email For VJ Flight operated by VietJet : 19001886@vietjetair.com For VZ Flight operated by Thai VietJet : vz.support@vietjetair.com Telecomunication fees are 1000 VND per minute according to the regulations of Vietnam post network Please contact our local Vietjet Air call centre using the below list Calling from Contact number Vietnam 1900 1886 Korea +82 2 319 4560 Taiwan +886 0800 66 1886 Thailand 02 089 1909 Malaysia +603 2730 9887 Australia 1800 844 219 Myanmar +95 (9) 789 323 828 Indonesia +62 21 527 1393 Cambodia +855(0)63 967 769 +855(0)78 771 333 Japan +81 50-5482-5538 India +91 11-43640490 43640491 SkyBoss Sky corporate Our Booking Offices GDS / Interline Authorized Travel Agency 120+ Domestic and international routes 400+ Daily flight 6000+ Friendly and dedicated staffs 100+ New and eco-friendly aircraft 7★ The highest ranking for aviation safety with 7 stars Asia Pacific Low Cost Airline of the Year 2019 Best Airline\n",
      "\n",
      "an average 6% drop in price. Most popular time to fly with an average 17% increase in price. FAQs about flying with VietJet Air What is VietJet Air's carry-on size allowance? On board VietJet Air flights, cabin baggage should not exceed 22x14x9in. If your hand luggage is bigger, the VietJet Air assistance team will most likely ask you to pay extra for checked luggage. Where does VietJet Air fly to? VietJet Air offers direct flights to 50 cities in 14 different countries. Hanoi, Ho Chi Minh City, and Da Nang are the most popular cities covered by VietJet Air. What is VietJet Air’s primary hub? VietJet Air concentrates most of its flight operations in Ho Chi Minh City. How does KAYAK find such low prices on VietJet Air flights? KAYAK is a travel search engine, meaning that we continuously look across the web to find the best deals for our users. With over 2 billion flight queries processed yearly, we are able to display a variety of prices and options on flights from all airlines,\n",
      "\n",
      ". ^ Robin Hicks (26 February 2020). \"Vietnam airline called out for greenwash promotion: 'Protect our planet – fly with Vietjet' \" . Retrieved 27 November 2024 . ^ Robin Hicks (27 November 2024). \"Robin Hicks on LinkedIn: #greenwashing #marketing #advertising #publicrelations\" . Retrieved 27 November 2024 . ^ \"Annual reports\" . ir.vietjetair.com . Retrieved 30 July 2024 . ^ \"Yearly profit after tax of Vietjet Air\" . Statista . Retrieved 4 November 2023 . ^ a b c d e f g \"Vietjet Annual Report 2022\" (PDF) . Vietjet . Retrieved 4 November 2023 . ^ a b \"Vietjet Annual Report 2023\" (PDF) . 31 March 2024. ^ \"Yearly number of aircraft in operation of Vietjet Air\" . Statista . Retrieved 4 November 2023 . ^ \"Annual Report 2017\" (PDF) . Vietjet . Retrieved 4 November 2023 . ^ \"Vietjet announces its audited financial statement of 2018: Core business continues to increase 49%, international revenue surpassed domestic ones\" . www.vietjetair.com . Retrieved 4 November 2023 . ^ \"Route map VietJet\"\n",
      "</context>\n",
      "\n",
      "Question: What is vietjet air?\n",
      "\n",
      "\n",
      "--- End Prompt ---\n"
     ]
    },
    {
     "data": {
      "application/vnd.google.colaboratory.intrinsic+json": {
       "type": "string"
      },
      "text/plain": [
       "\"VietJet Air, or Vietjet, is a low-cost airline based in Hanoi, Vietnam.  It's Vietnam's largest private carrier, a full member of the International Air Transport Association (IATA), and holds the IOSA certificate.  It has a large flight network spanning central and Southeast Asia, China, Japan, India, and Australia, offering both domestic and international flights.  VietJet also operates a subsidiary, Thai VietJet, based in Thailand.  The airline uses Airbus planes (A320 and A321 models) and is known for its inexpensive flights.\\n\""
      ]
     },
     "execution_count": 41,
     "metadata": {},
     "output_type": "execute_result"
    }
   ],
   "source": [
    "query_rewrite_chain.invoke(\"What is vietjet air?\")"
   ]
  },
  {
   "cell_type": "markdown",
   "metadata": {
    "id": "4L92EASGNDsk"
   },
   "source": [
    "#### Cluster and sampling over retrieved docs"
   ]
  },
  {
   "cell_type": "code",
   "execution_count": 52,
   "metadata": {
    "executionInfo": {
     "elapsed": 343,
     "status": "ok",
     "timestamp": 1733711265664,
     "user": {
      "displayName": "Hoan Nguyen",
      "userId": "12086636295862727664"
     },
     "user_tz": -420
    },
    "id": "IGOphAc8OT-d"
   },
   "outputs": [],
   "source": [
    "from sklearn.cluster import KMeans\n",
    "import numpy as np"
   ]
  },
  {
   "cell_type": "code",
   "execution_count": 70,
   "metadata": {
    "executionInfo": {
     "elapsed": 292,
     "status": "ok",
     "timestamp": 1733711670800,
     "user": {
      "displayName": "Hoan Nguyen",
      "userId": "12086636295862727664"
     },
     "user_tz": -420
    },
    "id": "5kYeCn6tOGVW"
   },
   "outputs": [],
   "source": [
    "NUM_DOCS = 30\n",
    "NUM_CLUSTERS = 3\n",
    "NUM_SAMPLES_PER_CLUSTER = 2\n",
    "RANDOM_STATE = 42"
   ]
  },
  {
   "cell_type": "code",
   "execution_count": 49,
   "metadata": {
    "executionInfo": {
     "elapsed": 398,
     "status": "ok",
     "timestamp": 1733711231386,
     "user": {
      "displayName": "Hoan Nguyen",
      "userId": "12086636295862727664"
     },
     "user_tz": -420
    },
    "id": "qXpDsdQJMYrU"
   },
   "outputs": [],
   "source": [
    "# define retriever with large num docs\n",
    "retriever_02 = vector_store_01.as_retriever(\n",
    "    search_type=\"similarity\", search_kwargs={\"k\": NUM_DOCS}\n",
    ")"
   ]
  },
  {
   "cell_type": "code",
   "execution_count": 50,
   "metadata": {
    "colab": {
     "base_uri": "https://localhost:8080/"
    },
    "executionInfo": {
     "elapsed": 9,
     "status": "ok",
     "timestamp": 1733711232678,
     "user": {
      "displayName": "Hoan Nguyen",
      "userId": "12086636295862727664"
     },
     "user_tz": -420
    },
    "id": "e-Gt_qX6NO2I",
    "outputId": "4ace878a-72d0-42f0-df2b-664226bf8cb0"
   },
   "outputs": [
    {
     "name": "stdout",
     "output_type": "stream",
     "text": [
      "30\n"
     ]
    }
   ],
   "source": [
    "relevant_docs = retriever_02.invoke(\"What is vietjet air?\")\n",
    "print(len(relevant_docs))"
   ]
  },
  {
   "cell_type": "code",
   "execution_count": 68,
   "metadata": {
    "colab": {
     "base_uri": "https://localhost:8080/",
     "height": 97
    },
    "executionInfo": {
     "elapsed": 315,
     "status": "ok",
     "timestamp": 1733711650964,
     "user": {
      "displayName": "Hoan Nguyen",
      "userId": "12086636295862727664"
     },
     "user_tz": -420
    },
    "id": "X2ZcVrmFNmGu",
    "outputId": "7a8a1789-5fbf-4f3c-860a-0d9c3ff765e9"
   },
   "outputs": [
    {
     "name": "stdout",
     "output_type": "stream",
     "text": [
      "Perform K-Means clustering\n"
     ]
    },
    {
     "data": {
      "text/html": [
       "<style>#sk-container-id-2 {\n",
       "  /* Definition of color scheme common for light and dark mode */\n",
       "  --sklearn-color-text: black;\n",
       "  --sklearn-color-line: gray;\n",
       "  /* Definition of color scheme for unfitted estimators */\n",
       "  --sklearn-color-unfitted-level-0: #fff5e6;\n",
       "  --sklearn-color-unfitted-level-1: #f6e4d2;\n",
       "  --sklearn-color-unfitted-level-2: #ffe0b3;\n",
       "  --sklearn-color-unfitted-level-3: chocolate;\n",
       "  /* Definition of color scheme for fitted estimators */\n",
       "  --sklearn-color-fitted-level-0: #f0f8ff;\n",
       "  --sklearn-color-fitted-level-1: #d4ebff;\n",
       "  --sklearn-color-fitted-level-2: #b3dbfd;\n",
       "  --sklearn-color-fitted-level-3: cornflowerblue;\n",
       "\n",
       "  /* Specific color for light theme */\n",
       "  --sklearn-color-text-on-default-background: var(--sg-text-color, var(--theme-code-foreground, var(--jp-content-font-color1, black)));\n",
       "  --sklearn-color-background: var(--sg-background-color, var(--theme-background, var(--jp-layout-color0, white)));\n",
       "  --sklearn-color-border-box: var(--sg-text-color, var(--theme-code-foreground, var(--jp-content-font-color1, black)));\n",
       "  --sklearn-color-icon: #696969;\n",
       "\n",
       "  @media (prefers-color-scheme: dark) {\n",
       "    /* Redefinition of color scheme for dark theme */\n",
       "    --sklearn-color-text-on-default-background: var(--sg-text-color, var(--theme-code-foreground, var(--jp-content-font-color1, white)));\n",
       "    --sklearn-color-background: var(--sg-background-color, var(--theme-background, var(--jp-layout-color0, #111)));\n",
       "    --sklearn-color-border-box: var(--sg-text-color, var(--theme-code-foreground, var(--jp-content-font-color1, white)));\n",
       "    --sklearn-color-icon: #878787;\n",
       "  }\n",
       "}\n",
       "\n",
       "#sk-container-id-2 {\n",
       "  color: var(--sklearn-color-text);\n",
       "}\n",
       "\n",
       "#sk-container-id-2 pre {\n",
       "  padding: 0;\n",
       "}\n",
       "\n",
       "#sk-container-id-2 input.sk-hidden--visually {\n",
       "  border: 0;\n",
       "  clip: rect(1px 1px 1px 1px);\n",
       "  clip: rect(1px, 1px, 1px, 1px);\n",
       "  height: 1px;\n",
       "  margin: -1px;\n",
       "  overflow: hidden;\n",
       "  padding: 0;\n",
       "  position: absolute;\n",
       "  width: 1px;\n",
       "}\n",
       "\n",
       "#sk-container-id-2 div.sk-dashed-wrapped {\n",
       "  border: 1px dashed var(--sklearn-color-line);\n",
       "  margin: 0 0.4em 0.5em 0.4em;\n",
       "  box-sizing: border-box;\n",
       "  padding-bottom: 0.4em;\n",
       "  background-color: var(--sklearn-color-background);\n",
       "}\n",
       "\n",
       "#sk-container-id-2 div.sk-container {\n",
       "  /* jupyter's `normalize.less` sets `[hidden] { display: none; }`\n",
       "     but bootstrap.min.css set `[hidden] { display: none !important; }`\n",
       "     so we also need the `!important` here to be able to override the\n",
       "     default hidden behavior on the sphinx rendered scikit-learn.org.\n",
       "     See: https://github.com/scikit-learn/scikit-learn/issues/21755 */\n",
       "  display: inline-block !important;\n",
       "  position: relative;\n",
       "}\n",
       "\n",
       "#sk-container-id-2 div.sk-text-repr-fallback {\n",
       "  display: none;\n",
       "}\n",
       "\n",
       "div.sk-parallel-item,\n",
       "div.sk-serial,\n",
       "div.sk-item {\n",
       "  /* draw centered vertical line to link estimators */\n",
       "  background-image: linear-gradient(var(--sklearn-color-text-on-default-background), var(--sklearn-color-text-on-default-background));\n",
       "  background-size: 2px 100%;\n",
       "  background-repeat: no-repeat;\n",
       "  background-position: center center;\n",
       "}\n",
       "\n",
       "/* Parallel-specific style estimator block */\n",
       "\n",
       "#sk-container-id-2 div.sk-parallel-item::after {\n",
       "  content: \"\";\n",
       "  width: 100%;\n",
       "  border-bottom: 2px solid var(--sklearn-color-text-on-default-background);\n",
       "  flex-grow: 1;\n",
       "}\n",
       "\n",
       "#sk-container-id-2 div.sk-parallel {\n",
       "  display: flex;\n",
       "  align-items: stretch;\n",
       "  justify-content: center;\n",
       "  background-color: var(--sklearn-color-background);\n",
       "  position: relative;\n",
       "}\n",
       "\n",
       "#sk-container-id-2 div.sk-parallel-item {\n",
       "  display: flex;\n",
       "  flex-direction: column;\n",
       "}\n",
       "\n",
       "#sk-container-id-2 div.sk-parallel-item:first-child::after {\n",
       "  align-self: flex-end;\n",
       "  width: 50%;\n",
       "}\n",
       "\n",
       "#sk-container-id-2 div.sk-parallel-item:last-child::after {\n",
       "  align-self: flex-start;\n",
       "  width: 50%;\n",
       "}\n",
       "\n",
       "#sk-container-id-2 div.sk-parallel-item:only-child::after {\n",
       "  width: 0;\n",
       "}\n",
       "\n",
       "/* Serial-specific style estimator block */\n",
       "\n",
       "#sk-container-id-2 div.sk-serial {\n",
       "  display: flex;\n",
       "  flex-direction: column;\n",
       "  align-items: center;\n",
       "  background-color: var(--sklearn-color-background);\n",
       "  padding-right: 1em;\n",
       "  padding-left: 1em;\n",
       "}\n",
       "\n",
       "\n",
       "/* Toggleable style: style used for estimator/Pipeline/ColumnTransformer box that is\n",
       "clickable and can be expanded/collapsed.\n",
       "- Pipeline and ColumnTransformer use this feature and define the default style\n",
       "- Estimators will overwrite some part of the style using the `sk-estimator` class\n",
       "*/\n",
       "\n",
       "/* Pipeline and ColumnTransformer style (default) */\n",
       "\n",
       "#sk-container-id-2 div.sk-toggleable {\n",
       "  /* Default theme specific background. It is overwritten whether we have a\n",
       "  specific estimator or a Pipeline/ColumnTransformer */\n",
       "  background-color: var(--sklearn-color-background);\n",
       "}\n",
       "\n",
       "/* Toggleable label */\n",
       "#sk-container-id-2 label.sk-toggleable__label {\n",
       "  cursor: pointer;\n",
       "  display: block;\n",
       "  width: 100%;\n",
       "  margin-bottom: 0;\n",
       "  padding: 0.5em;\n",
       "  box-sizing: border-box;\n",
       "  text-align: center;\n",
       "}\n",
       "\n",
       "#sk-container-id-2 label.sk-toggleable__label-arrow:before {\n",
       "  /* Arrow on the left of the label */\n",
       "  content: \"▸\";\n",
       "  float: left;\n",
       "  margin-right: 0.25em;\n",
       "  color: var(--sklearn-color-icon);\n",
       "}\n",
       "\n",
       "#sk-container-id-2 label.sk-toggleable__label-arrow:hover:before {\n",
       "  color: var(--sklearn-color-text);\n",
       "}\n",
       "\n",
       "/* Toggleable content - dropdown */\n",
       "\n",
       "#sk-container-id-2 div.sk-toggleable__content {\n",
       "  max-height: 0;\n",
       "  max-width: 0;\n",
       "  overflow: hidden;\n",
       "  text-align: left;\n",
       "  /* unfitted */\n",
       "  background-color: var(--sklearn-color-unfitted-level-0);\n",
       "}\n",
       "\n",
       "#sk-container-id-2 div.sk-toggleable__content.fitted {\n",
       "  /* fitted */\n",
       "  background-color: var(--sklearn-color-fitted-level-0);\n",
       "}\n",
       "\n",
       "#sk-container-id-2 div.sk-toggleable__content pre {\n",
       "  margin: 0.2em;\n",
       "  border-radius: 0.25em;\n",
       "  color: var(--sklearn-color-text);\n",
       "  /* unfitted */\n",
       "  background-color: var(--sklearn-color-unfitted-level-0);\n",
       "}\n",
       "\n",
       "#sk-container-id-2 div.sk-toggleable__content.fitted pre {\n",
       "  /* unfitted */\n",
       "  background-color: var(--sklearn-color-fitted-level-0);\n",
       "}\n",
       "\n",
       "#sk-container-id-2 input.sk-toggleable__control:checked~div.sk-toggleable__content {\n",
       "  /* Expand drop-down */\n",
       "  max-height: 200px;\n",
       "  max-width: 100%;\n",
       "  overflow: auto;\n",
       "}\n",
       "\n",
       "#sk-container-id-2 input.sk-toggleable__control:checked~label.sk-toggleable__label-arrow:before {\n",
       "  content: \"▾\";\n",
       "}\n",
       "\n",
       "/* Pipeline/ColumnTransformer-specific style */\n",
       "\n",
       "#sk-container-id-2 div.sk-label input.sk-toggleable__control:checked~label.sk-toggleable__label {\n",
       "  color: var(--sklearn-color-text);\n",
       "  background-color: var(--sklearn-color-unfitted-level-2);\n",
       "}\n",
       "\n",
       "#sk-container-id-2 div.sk-label.fitted input.sk-toggleable__control:checked~label.sk-toggleable__label {\n",
       "  background-color: var(--sklearn-color-fitted-level-2);\n",
       "}\n",
       "\n",
       "/* Estimator-specific style */\n",
       "\n",
       "/* Colorize estimator box */\n",
       "#sk-container-id-2 div.sk-estimator input.sk-toggleable__control:checked~label.sk-toggleable__label {\n",
       "  /* unfitted */\n",
       "  background-color: var(--sklearn-color-unfitted-level-2);\n",
       "}\n",
       "\n",
       "#sk-container-id-2 div.sk-estimator.fitted input.sk-toggleable__control:checked~label.sk-toggleable__label {\n",
       "  /* fitted */\n",
       "  background-color: var(--sklearn-color-fitted-level-2);\n",
       "}\n",
       "\n",
       "#sk-container-id-2 div.sk-label label.sk-toggleable__label,\n",
       "#sk-container-id-2 div.sk-label label {\n",
       "  /* The background is the default theme color */\n",
       "  color: var(--sklearn-color-text-on-default-background);\n",
       "}\n",
       "\n",
       "/* On hover, darken the color of the background */\n",
       "#sk-container-id-2 div.sk-label:hover label.sk-toggleable__label {\n",
       "  color: var(--sklearn-color-text);\n",
       "  background-color: var(--sklearn-color-unfitted-level-2);\n",
       "}\n",
       "\n",
       "/* Label box, darken color on hover, fitted */\n",
       "#sk-container-id-2 div.sk-label.fitted:hover label.sk-toggleable__label.fitted {\n",
       "  color: var(--sklearn-color-text);\n",
       "  background-color: var(--sklearn-color-fitted-level-2);\n",
       "}\n",
       "\n",
       "/* Estimator label */\n",
       "\n",
       "#sk-container-id-2 div.sk-label label {\n",
       "  font-family: monospace;\n",
       "  font-weight: bold;\n",
       "  display: inline-block;\n",
       "  line-height: 1.2em;\n",
       "}\n",
       "\n",
       "#sk-container-id-2 div.sk-label-container {\n",
       "  text-align: center;\n",
       "}\n",
       "\n",
       "/* Estimator-specific */\n",
       "#sk-container-id-2 div.sk-estimator {\n",
       "  font-family: monospace;\n",
       "  border: 1px dotted var(--sklearn-color-border-box);\n",
       "  border-radius: 0.25em;\n",
       "  box-sizing: border-box;\n",
       "  margin-bottom: 0.5em;\n",
       "  /* unfitted */\n",
       "  background-color: var(--sklearn-color-unfitted-level-0);\n",
       "}\n",
       "\n",
       "#sk-container-id-2 div.sk-estimator.fitted {\n",
       "  /* fitted */\n",
       "  background-color: var(--sklearn-color-fitted-level-0);\n",
       "}\n",
       "\n",
       "/* on hover */\n",
       "#sk-container-id-2 div.sk-estimator:hover {\n",
       "  /* unfitted */\n",
       "  background-color: var(--sklearn-color-unfitted-level-2);\n",
       "}\n",
       "\n",
       "#sk-container-id-2 div.sk-estimator.fitted:hover {\n",
       "  /* fitted */\n",
       "  background-color: var(--sklearn-color-fitted-level-2);\n",
       "}\n",
       "\n",
       "/* Specification for estimator info (e.g. \"i\" and \"?\") */\n",
       "\n",
       "/* Common style for \"i\" and \"?\" */\n",
       "\n",
       ".sk-estimator-doc-link,\n",
       "a:link.sk-estimator-doc-link,\n",
       "a:visited.sk-estimator-doc-link {\n",
       "  float: right;\n",
       "  font-size: smaller;\n",
       "  line-height: 1em;\n",
       "  font-family: monospace;\n",
       "  background-color: var(--sklearn-color-background);\n",
       "  border-radius: 1em;\n",
       "  height: 1em;\n",
       "  width: 1em;\n",
       "  text-decoration: none !important;\n",
       "  margin-left: 1ex;\n",
       "  /* unfitted */\n",
       "  border: var(--sklearn-color-unfitted-level-1) 1pt solid;\n",
       "  color: var(--sklearn-color-unfitted-level-1);\n",
       "}\n",
       "\n",
       ".sk-estimator-doc-link.fitted,\n",
       "a:link.sk-estimator-doc-link.fitted,\n",
       "a:visited.sk-estimator-doc-link.fitted {\n",
       "  /* fitted */\n",
       "  border: var(--sklearn-color-fitted-level-1) 1pt solid;\n",
       "  color: var(--sklearn-color-fitted-level-1);\n",
       "}\n",
       "\n",
       "/* On hover */\n",
       "div.sk-estimator:hover .sk-estimator-doc-link:hover,\n",
       ".sk-estimator-doc-link:hover,\n",
       "div.sk-label-container:hover .sk-estimator-doc-link:hover,\n",
       ".sk-estimator-doc-link:hover {\n",
       "  /* unfitted */\n",
       "  background-color: var(--sklearn-color-unfitted-level-3);\n",
       "  color: var(--sklearn-color-background);\n",
       "  text-decoration: none;\n",
       "}\n",
       "\n",
       "div.sk-estimator.fitted:hover .sk-estimator-doc-link.fitted:hover,\n",
       ".sk-estimator-doc-link.fitted:hover,\n",
       "div.sk-label-container:hover .sk-estimator-doc-link.fitted:hover,\n",
       ".sk-estimator-doc-link.fitted:hover {\n",
       "  /* fitted */\n",
       "  background-color: var(--sklearn-color-fitted-level-3);\n",
       "  color: var(--sklearn-color-background);\n",
       "  text-decoration: none;\n",
       "}\n",
       "\n",
       "/* Span, style for the box shown on hovering the info icon */\n",
       ".sk-estimator-doc-link span {\n",
       "  display: none;\n",
       "  z-index: 9999;\n",
       "  position: relative;\n",
       "  font-weight: normal;\n",
       "  right: .2ex;\n",
       "  padding: .5ex;\n",
       "  margin: .5ex;\n",
       "  width: min-content;\n",
       "  min-width: 20ex;\n",
       "  max-width: 50ex;\n",
       "  color: var(--sklearn-color-text);\n",
       "  box-shadow: 2pt 2pt 4pt #999;\n",
       "  /* unfitted */\n",
       "  background: var(--sklearn-color-unfitted-level-0);\n",
       "  border: .5pt solid var(--sklearn-color-unfitted-level-3);\n",
       "}\n",
       "\n",
       ".sk-estimator-doc-link.fitted span {\n",
       "  /* fitted */\n",
       "  background: var(--sklearn-color-fitted-level-0);\n",
       "  border: var(--sklearn-color-fitted-level-3);\n",
       "}\n",
       "\n",
       ".sk-estimator-doc-link:hover span {\n",
       "  display: block;\n",
       "}\n",
       "\n",
       "/* \"?\"-specific style due to the `<a>` HTML tag */\n",
       "\n",
       "#sk-container-id-2 a.estimator_doc_link {\n",
       "  float: right;\n",
       "  font-size: 1rem;\n",
       "  line-height: 1em;\n",
       "  font-family: monospace;\n",
       "  background-color: var(--sklearn-color-background);\n",
       "  border-radius: 1rem;\n",
       "  height: 1rem;\n",
       "  width: 1rem;\n",
       "  text-decoration: none;\n",
       "  /* unfitted */\n",
       "  color: var(--sklearn-color-unfitted-level-1);\n",
       "  border: var(--sklearn-color-unfitted-level-1) 1pt solid;\n",
       "}\n",
       "\n",
       "#sk-container-id-2 a.estimator_doc_link.fitted {\n",
       "  /* fitted */\n",
       "  border: var(--sklearn-color-fitted-level-1) 1pt solid;\n",
       "  color: var(--sklearn-color-fitted-level-1);\n",
       "}\n",
       "\n",
       "/* On hover */\n",
       "#sk-container-id-2 a.estimator_doc_link:hover {\n",
       "  /* unfitted */\n",
       "  background-color: var(--sklearn-color-unfitted-level-3);\n",
       "  color: var(--sklearn-color-background);\n",
       "  text-decoration: none;\n",
       "}\n",
       "\n",
       "#sk-container-id-2 a.estimator_doc_link.fitted:hover {\n",
       "  /* fitted */\n",
       "  background-color: var(--sklearn-color-fitted-level-3);\n",
       "}\n",
       "</style><div id=\"sk-container-id-2\" class=\"sk-top-container\"><div class=\"sk-text-repr-fallback\"><pre>KMeans(n_clusters=3, random_state=42)</pre><b>In a Jupyter environment, please rerun this cell to show the HTML representation or trust the notebook. <br />On GitHub, the HTML representation is unable to render, please try loading this page with nbviewer.org.</b></div><div class=\"sk-container\" hidden><div class=\"sk-item\"><div class=\"sk-estimator fitted sk-toggleable\"><input class=\"sk-toggleable__control sk-hidden--visually\" id=\"sk-estimator-id-2\" type=\"checkbox\" checked><label for=\"sk-estimator-id-2\" class=\"sk-toggleable__label fitted sk-toggleable__label-arrow fitted\">&nbsp;&nbsp;KMeans<a class=\"sk-estimator-doc-link fitted\" rel=\"noreferrer\" target=\"_blank\" href=\"https://scikit-learn.org/1.5/modules/generated/sklearn.cluster.KMeans.html\">?<span>Documentation for KMeans</span></a><span class=\"sk-estimator-doc-link fitted\">i<span>Fitted</span></span></label><div class=\"sk-toggleable__content fitted\"><pre>KMeans(n_clusters=3, random_state=42)</pre></div> </div></div></div></div>"
      ],
      "text/plain": [
       "KMeans(n_clusters=3, random_state=42)"
      ]
     },
     "execution_count": 68,
     "metadata": {},
     "output_type": "execute_result"
    }
   ],
   "source": [
    "doc_ids = [doc.metadata[\"doc_id\"] for doc in relevant_docs]\n",
    "retrieved_embeddings = vector_store_01.get(ids=doc_ids, include=['embeddings'])['embeddings']\n",
    "\n",
    "print(\"Perform K-Means clustering\")\n",
    "kmeans = KMeans(n_clusters=NUM_CLUSTERS, random_state=RANDOM_STATE)\n",
    "kmeans.fit(retrieved_embeddings)"
   ]
  },
  {
   "cell_type": "code",
   "execution_count": 69,
   "metadata": {
    "colab": {
     "base_uri": "https://localhost:8080/"
    },
    "executionInfo": {
     "elapsed": 9,
     "status": "ok",
     "timestamp": 1733711652879,
     "user": {
      "displayName": "Hoan Nguyen",
      "userId": "12086636295862727664"
     },
     "user_tz": -420
    },
    "id": "8ksldfhuPs37",
    "outputId": "d0c61c07-cf5a-429f-f87c-540e3c8ef3b5"
   },
   "outputs": [
    {
     "data": {
      "text/plain": [
       "array([2, 2, 2, 2, 1, 1, 1, 1, 1, 0, 0, 0, 0, 0, 0, 2, 0, 2, 0, 1, 1, 0,\n",
       "       2, 2, 2, 2, 1, 1, 1, 1], dtype=int32)"
      ]
     },
     "execution_count": 69,
     "metadata": {},
     "output_type": "execute_result"
    }
   ],
   "source": [
    "labels = kmeans.labels_\n",
    "labels"
   ]
  },
  {
   "cell_type": "code",
   "execution_count": 55,
   "metadata": {
    "colab": {
     "base_uri": "https://localhost:8080/"
    },
    "executionInfo": {
     "elapsed": 311,
     "status": "ok",
     "timestamp": 1733711363900,
     "user": {
      "displayName": "Hoan Nguyen",
      "userId": "12086636295862727664"
     },
     "user_tz": -420
    },
    "id": "pQ5lnTbAN4n_",
    "outputId": "7b162a87-0e7b-49a0-87c4-56bdf1ae0bc4"
   },
   "outputs": [
    {
     "name": "stdout",
     "output_type": "stream",
     "text": [
      "Sampled doc IDs: ['df569422-07ca-43ee-900a-284445227cdb', 'c64b867c-e3f6-43c0-82c8-12de9ccee979', 'e33e6a40-6eaf-48e0-9f1d-42d0b1bc6ffb', 'a1e0a9d6-4390-430f-846d-d13325cc7f5a', '4e89bc02-8a21-43d1-8f41-9aae8840af6f', '673fc849-17b7-4058-8922-b4c8529fd5d5']\n"
     ]
    }
   ],
   "source": [
    "sampled_doc_ids = []\n",
    "for cluster_id in range(NUM_CLUSTERS):\n",
    "    cluster_indices = np.where(labels == cluster_id)[0]\n",
    "    if len(cluster_indices) > 0:\n",
    "        # Sample 2 documents from the current cluster\n",
    "        sampled_indices = np.random.choice(cluster_indices, size=min(NUM_SAMPLES_PER_CLUSTER, len(cluster_indices)), replace=False)\n",
    "        sampled_doc_ids.extend([doc_ids[i] for i in sampled_indices])\n",
    "\n",
    "print(\"Sampled doc IDs:\", sampled_doc_ids)"
   ]
  },
  {
   "cell_type": "code",
   "execution_count": 56,
   "metadata": {
    "colab": {
     "base_uri": "https://localhost:8080/"
    },
    "executionInfo": {
     "elapsed": 844,
     "status": "ok",
     "timestamp": 1733711389895,
     "user": {
      "displayName": "Hoan Nguyen",
      "userId": "12086636295862727664"
     },
     "user_tz": -420
    },
    "id": "bD7bGkAAP_iX",
    "outputId": "52f3f7ae-75e9-49f0-9ba9-e9a42687173e"
   },
   "outputs": [
    {
     "data": {
      "text/plain": [
       "6"
      ]
     },
     "execution_count": 56,
     "metadata": {},
     "output_type": "execute_result"
    }
   ],
   "source": [
    "len(sampled_doc_ids)"
   ]
  },
  {
   "cell_type": "code",
   "execution_count": 71,
   "metadata": {
    "executionInfo": {
     "elapsed": 282,
     "status": "ok",
     "timestamp": 1733711691942,
     "user": {
      "displayName": "Hoan Nguyen",
      "userId": "12086636295862727664"
     },
     "user_tz": -420
    },
    "id": "g-yCf_a_QFl8"
   },
   "outputs": [],
   "source": [
    "sampled_docs = vector_store_01.get(ids=sampled_doc_ids)"
   ]
  },
  {
   "cell_type": "code",
   "execution_count": 67,
   "metadata": {
    "colab": {
     "base_uri": "https://localhost:8080/"
    },
    "executionInfo": {
     "elapsed": 303,
     "status": "ok",
     "timestamp": 1733711625763,
     "user": {
      "displayName": "Hoan Nguyen",
      "userId": "12086636295862727664"
     },
     "user_tz": -420
    },
    "id": "E9FqKRZxQX1e",
    "outputId": "53f354f4-61ae-47bb-e896-a90f1b19a524"
   },
   "outputs": [
    {
     "data": {
      "text/plain": [
       "dict_keys(['ids', 'embeddings', 'documents', 'uris', 'data', 'metadatas', 'included'])"
      ]
     },
     "execution_count": 67,
     "metadata": {},
     "output_type": "execute_result"
    }
   ],
   "source": [
    "sampled_docs.keys()"
   ]
  },
  {
   "cell_type": "code",
   "execution_count": 72,
   "metadata": {
    "colab": {
     "base_uri": "https://localhost:8080/"
    },
    "executionInfo": {
     "elapsed": 277,
     "status": "ok",
     "timestamp": 1733711706042,
     "user": {
      "displayName": "Hoan Nguyen",
      "userId": "12086636295862727664"
     },
     "user_tz": -420
    },
    "id": "FpmC-_f1QZac",
    "outputId": "cf3004a8-292f-4be3-f361-7c1327eb53fa"
   },
   "outputs": [
    {
     "data": {
      "text/plain": [
       "6"
      ]
     },
     "execution_count": 72,
     "metadata": {},
     "output_type": "execute_result"
    }
   ],
   "source": [
    "len(sampled_docs['documents'])"
   ]
  },
  {
   "cell_type": "code",
   "execution_count": 73,
   "metadata": {
    "executionInfo": {
     "elapsed": 506,
     "status": "ok",
     "timestamp": 1733711903823,
     "user": {
      "displayName": "Hoan Nguyen",
      "userId": "12086636295862727664"
     },
     "user_tz": -420
    },
    "id": "sdpUPyhyQn9I"
   },
   "outputs": [],
   "source": [
    "# wrap up to function\n",
    "def re_sampling_docs(relevant_docs):\n",
    "    doc_ids = [doc.metadata[\"doc_id\"] for doc in relevant_docs]\n",
    "    doc_embeddings = vector_store_01.get(\n",
    "        ids=doc_ids,\n",
    "        include=['embeddings']\n",
    "    )['embeddings']\n",
    "\n",
    "    print(\"Perform K-Means clustering\")\n",
    "    kmeans = KMeans(n_clusters=NUM_CLUSTERS, random_state=RANDOM_STATE)\n",
    "    kmeans.fit(doc_embeddings)\n",
    "\n",
    "    sampled_doc_ids = []\n",
    "    for cluster_id in range(NUM_CLUSTERS):\n",
    "        cluster_indices = np.where(labels == cluster_id)[0]\n",
    "        if len(cluster_indices) > 0:\n",
    "            sampled_indices = np.random.choice(\n",
    "                cluster_indices,\n",
    "                size=min(NUM_SAMPLES_PER_CLUSTER, len(cluster_indices)),\n",
    "                replace=False\n",
    "            )\n",
    "            sampled_doc_ids.extend([doc_ids[i] for i in sampled_indices])\n",
    "\n",
    "    print(\"Sampled doc IDs:\", sampled_doc_ids)\n",
    "\n",
    "    return vector_store_01.get(ids=sampled_doc_ids)[\"documents\"]"
   ]
  },
  {
   "cell_type": "code",
   "execution_count": 75,
   "metadata": {
    "executionInfo": {
     "elapsed": 285,
     "status": "ok",
     "timestamp": 1733712031629,
     "user": {
      "displayName": "Hoan Nguyen",
      "userId": "12086636295862727664"
     },
     "user_tz": -420
    },
    "id": "pjIkQ6aQSDZ7"
   },
   "outputs": [],
   "source": [
    "# Add to RAG chain\n",
    "query_rewrite_resampling_chain = (\n",
    "    {\n",
    "        \"context\": {\"x\": RunnablePassthrough()} | query_rewriter | retriever_02 | re_sampling_docs | format_docs,\n",
    "        \"question\": RunnablePassthrough(),\n",
    "    }\n",
    "    | prompt_resp\n",
    "    | log_prompt\n",
    "    | llm\n",
    "    | StrOutputParser()\n",
    ")"
   ]
  },
  {
   "cell_type": "code",
   "execution_count": 76,
   "metadata": {
    "colab": {
     "base_uri": "https://localhost:8080/",
     "height": 732
    },
    "executionInfo": {
     "elapsed": 3368,
     "status": "ok",
     "timestamp": 1733712049434,
     "user": {
      "displayName": "Hoan Nguyen",
      "userId": "12086636295862727664"
     },
     "user_tz": -420
    },
    "id": "72C-XF_SSMx2",
    "outputId": "2a36e26c-86af-4ef1-9be7-d5bcbbf41838"
   },
   "outputs": [
    {
     "name": "stdout",
     "output_type": "stream",
     "text": [
      "\n",
      "--- Prompt Fed to LLM ---\n",
      "Provide a better search query for web search engine to answer the given question, end the queries with `**`.\n",
      "Question: What is vietjet air \n",
      "Answer:\n",
      "\n",
      "\n",
      "--- End Prompt ---\n",
      "Perform K-Means clustering\n",
      "Sampled doc IDs: ['0dad213a-6d94-4042-90e9-c6228c567fb1', 'e97eb090-9548-4500-805e-8b018444ddcc', 'b14e02cd-3977-43bb-98af-292713b7ad3e', '254632af-6060-4a3b-9e5b-8a9913577989', '59eb094f-4850-49f3-9c5c-3932aed32189', 'ffe3dd6d-45ae-4b72-84d3-7c30aa63549f']\n",
      "\n",
      "--- Prompt Fed to LLM ---\n",
      "Answer the users question based only on the following context:\n",
      "\n",
      "<context>\n",
      "airport and onboard is very similar to other low-cost carriers in the region. If you want a basic seat with just a personal item to take with you, you’ll get it at an incredibly low cost. Anything more, like baggage, meals or seat reservations, comes with an extra fee, though I still find these pretty reasonable, usually. Classes of travel and fares On almost all its aircraft, VietJet is all-economy and, like many low-cost airlines, you can choose from a variety of fare types that add benefits for a little more money. Eco is the most basic fare and includes just 7 kilograms (15.4 pounds) of carry-on baggage. Essentially, that’s really just a larger personal item. Deluxe fares include a checked bag up to 40 kilograms (88.2 pounds) to Australia or Kazakhstan and 20 kilograms (44.1 pounds) elsewhere. It also includes food and drinks if flying on Australia or Kazakhstan routes, limited seat selection and fare flexibility that eliminates a change fee, so you only pay the fare difference\n",
      "\n",
      "yearly, we are able to display a variety of prices and options on flights from all airlines, including VietJet Air. When are VietJet Air plane tickets cheapest? Flight prices with VietJet Air will depend on the season and route you are flying. Our data shows that overall, the cheapest month to fly with VietJet Air is August, while the most expensive is December. What’s the cheapest route that VietJet Air flies? In the last 72 hours, the cheapest route flown by VietJet Air found on KAYAK was from Ho Chi Minh City to Phu Quoc, with a price of $51 for a round-trip. What are the most popular airports for VietJet Air flights to depart from? With 44 VietJet Air flights departing each week, Ho Chi Minh City airport is the most popular airport for VietJet Air flights to depart from. The most popular destination from this airport is Shanghai. The next most popular departure airport is Hanoi Noibai airport, with 32 VietJet Air flights departing from there each week. Is VietJet Air part of an\n",
      "\n",
      "Minh provides an easier link to countries south such as Indonesia, Malaysia and Singapore. Offering competitive prices to passengers and minimal services, the airline has developed a strong customer base within the low-cost market. It has introduced Thai Vietjet Air as a subsidiary, which focuses on domestic flights within Thailand. In 2015 it was crowned the Best Asian Low-Cost Carrier at the TTG Travel Awards. A codeshare agreement is in place with Japan Airlines, which provides more flexibility to customers for both domestic and international trips. The fleet of Vietjet Air is made up entirely of Airbus airplanes. Flying both the A320 and A321 models, the aircraft are capable of transporting between 180 and 230 passengers. The carrier became the first to fly the A320neo model in Southeast Asia. The livery of the airliners features Vietnam’s national colors of red and yellow. Keep an eye out to see if you travel on a specially marked A321-211 plane, which is decorated to celebrate\n",
      "\n",
      "for aviation safety with 7 stars Asia Pacific Low Cost Airline of the Year 2019 Best Airline Business in Southeast Asia Top 50 best listed companies in Vietnam Asia's best brand Best company to work for in Asia Business and sustainable development To have a good flight Travel Document Fee and charges Luggage situation at International station Refund policy apply for korea point of sales How to Check-in Baggage service Transferring Creditshell request form Terms and Conditions Airports and Terminals Payment methods Connecting flight information VAT invoice Compensation information “Lost & Found” Contacts Detail Travel advisory Fare Rules Vietjet e-Forms Buy Baggage, meals, choose seats and more… Entertainment Unaccompanied minor service Duty free Meet and assist service Prebook meals - Jet cafe Choose your preferred seat Prebook luggage Travelling with pets service Souvenir Vietjet e-Voucher Luxury service Business Class Luxury lounge SkyBoss About Vietjet Career News Hot deals Call\n",
      "\n",
      "Luxury service Business Class Luxury lounge SkyBoss About Vietjet Career News Hot deals Call Center Travel guides Company profile Investor Where to buy ticket? Our Booking Offices Authorized Travel Agency Call Center Register as an online agent Sky corporate GDS / Interline HDBank Vietjet credit card Agency Login Frequently asked questions Investor Career Cargo Contact us Update flight status with Flightradar Booking instruction Payment instruction Wings of love programme Download Vietjet Air application VIETJET AVIATION JOINT STOCK COMPANY 302/3 Kim Ma Street, Ngoc Khanh Ward, Ba Dinh District, Hanoi, Vietnam. Content responsibility: Mr Nguyen Thanh Son Hotline:\n",
      "\n",
      "airline stated its intention to offer flights to Ho Chi Minh City and Da Nang , gradually expanding its network to include other Asian destinations, such as Hong Kong, Bangkok, Singapore, and cities in southern China . [ 11 ] The airline's president and CEO is Nguyen Thi Phuong Thao from December 2011. [ 12 ] Initially, VietJet had shown the intention to commence flights in late 2008 or early 2009. [ 11 ] Throughout the next few years, the expected launch date was repeatedly pushed back, first to late 2009, then mid-2010. [ 13 ] Airline officials gave different reasons for the delays, including increased fuel prices and other financial problems, as well as unresolved branding conflicts with the Civil Aviation Administration of Vietnam (CAAV). [ 14 ] Although Malaysian budget carrier AirAsia announced in February 2010 that it planned to purchase a 30% stake in the airline through a joint venture agreement, the carrier rescinded its plans in October 2011, citing \"a failure to obtain\n",
      "</context>\n",
      "\n",
      "Question: What is vietjet air\n",
      "\n",
      "\n",
      "--- End Prompt ---\n"
     ]
    },
    {
     "data": {
      "application/vnd.google.colaboratory.intrinsic+json": {
       "type": "string"
      },
      "text/plain": [
       "\"Based on the provided text, VietJet Air is a low-cost carrier in the region, offering basic seats at low prices with extra fees for baggage, meals, and seat reservations.  It operates mostly all-economy class flights with various fare types offering added benefits for a higher price.  The airline's fleet consists entirely of Airbus A320 and A321 models, and it was the first in Southeast Asia to fly the A320neo model.  VietJet Air has a codeshare agreement with Japan Airlines and a subsidiary, Thai Vietjet Air, focusing on domestic flights within Thailand.  In 2015, it was named the Best Asian Low-Cost Carrier at the TTG Travel Awards.\\n\""
      ]
     },
     "execution_count": 76,
     "metadata": {},
     "output_type": "execute_result"
    }
   ],
   "source": [
    "query_rewrite_resampling_chain.invoke(\"What is vietjet air\")"
   ]
  },
  {
   "cell_type": "code",
   "execution_count": null,
   "metadata": {
    "id": "yiQQE88rSmYE"
   },
   "outputs": [],
   "source": []
  }
 ],
 "metadata": {
  "colab": {
   "authorship_tag": "ABX9TyOAmmOtxcyKZka5uMGOP63f",
   "mount_file_id": "17cjBi-32TsjhHcbIisJ77Bg5XazCBaeP",
   "provenance": [],
   "toc_visible": true
  },
  "kernelspec": {
   "display_name": "llm_py310",
   "language": "python",
   "name": "python3"
  },
  "language_info": {
   "codemirror_mode": {
    "name": "ipython",
    "version": 3
   },
   "file_extension": ".py",
   "mimetype": "text/x-python",
   "name": "python",
   "nbconvert_exporter": "python",
   "pygments_lexer": "ipython3",
   "version": "3.10.16"
  }
 },
 "nbformat": 4,
 "nbformat_minor": 0
}
